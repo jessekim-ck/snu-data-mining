{
 "metadata": {
  "language_info": {
   "codemirror_mode": {
    "name": "ipython",
    "version": 3
   },
   "file_extension": ".py",
   "mimetype": "text/x-python",
   "name": "python",
   "nbconvert_exporter": "python",
   "pygments_lexer": "ipython3",
   "version": "3.7.4-final"
  },
  "orig_nbformat": 2,
  "kernelspec": {
   "name": "Python 3.7.4 64-bit ('base': conda)",
   "display_name": "Python 3.7.4 64-bit ('base': conda)",
   "metadata": {
    "interpreter": {
     "hash": "ce0dd4495ddc0294ea09e205c8e45a48e99d7524c4f0d1aef9d1e44325c07af3"
    }
   }
  }
 },
 "nbformat": 4,
 "nbformat_minor": 2,
 "cells": [
  {
   "cell_type": "code",
   "execution_count": 68,
   "metadata": {},
   "outputs": [],
   "source": [
    "import re\n",
    "import pandas as pd\n",
    "from konlpy.tag import Okt\n",
    "from sklearn.metrics.pairwise import cosine_similarity"
   ]
  },
  {
   "cell_type": "code",
   "execution_count": 66,
   "metadata": {},
   "outputs": [
    {
     "output_type": "execute_result",
     "data": {
      "text/plain": [
       "0       (광주=연합뉴스) 여운창 기자 = 날로 커가는 피부·미용분야의 에스테틱 시장을 개척...\n",
       "1       (구미=연합뉴스) 박순기 기자 = 노래·춤 경연으로 청소년 꿈과 열정을 키워주는 '...\n",
       "2       (부산=연합뉴스) 박창수 기자 = 고신대 복음병원은 카자흐스탄 제2 도시 알마티에 ...\n",
       "3        (대구=연합뉴스) 한국패션문화산업진흥원은 2016 대구국제패션문화페스티벌 자원봉사...\n",
       "4       (세종=연합뉴스) 김영만 기자 = 한국의 고고도 미사일 방어체계(THAAD·사드) ...\n",
       "                              ...                        \n",
       "2585    (부산=연합뉴스) 신정훈 기자 = 부산시가 글로벌 명품시장으로 선정된 국제시장을 비...\n",
       "2586    (서울=연합뉴스) 김중배 기자 = 김종덕 문화체육관광부 장관은 24일 국립현대미술관...\n",
       "2587    (서울=연합뉴스) 이영재 기자 = 한반도 긴장 해소를 위해 열린 남북 고위급접촉의 ...\n",
       "2588    (서울=연합뉴스) 김중배 기자 = 김종덕 문화체육관광부 장관이 지난 21일로 취임 ...\n",
       "2589    (서울=연합뉴스) 현혜란 기자 = \"파리 센강 옆은 건물이라도 멋있지. 한강은 주변...\n",
       "Name: contents, Length: 2590, dtype: object"
      ]
     },
     "metadata": {},
     "execution_count": 66
    }
   ],
   "source": [
    "kor_corpus = pd.read_csv(\"data/kor_news.csv\", encoding=\"cp949\")\n",
    "yonhap = kor_corpus[\"contents\"]\n",
    "yonhap"
   ]
  },
  {
   "cell_type": "code",
   "execution_count": 69,
   "metadata": {},
   "outputs": [],
   "source": [
    "okt = Okt()\n",
    "# total_news = list()\n",
    "# for news in kor_corpus[\"contents\"].head():\n",
    "#     pos_news = [','.join(t[:-1]) for t in okt.pos(news) if (t[1] == \"Noun\")]\n",
    "#     total_news.append(' '.join(pos_news))\n",
    "\n",
    "total_news = []\n",
    "stopword = ['것', '수', '저']\n",
    "for news in yonhap[:1000]:\n",
    "    pos_news = re.sub('.* 기자 = ', '', news)\n",
    "    pos_news = [','.join(t[:-1]) for t in okt.pos(pos_news) if ((t[1]=='Noun') & (t[0] not in stopword))]\n",
    "    total_news.append(' '.join(pos_news))"
   ]
  },
  {
   "cell_type": "code",
   "execution_count": 49,
   "metadata": {},
   "outputs": [],
   "source": [
    "from sklearn.feature_extraction.text import CountVectorizer"
   ]
  },
  {
   "cell_type": "code",
   "execution_count": 70,
   "metadata": {},
   "outputs": [
    {
     "output_type": "execute_result",
     "data": {
      "text/plain": [
       "array([[0, 0, 0, ..., 0, 0, 0],\n",
       "       [0, 0, 0, ..., 0, 0, 0],\n",
       "       [0, 0, 0, ..., 0, 0, 0],\n",
       "       ...,\n",
       "       [0, 0, 0, ..., 0, 0, 0],\n",
       "       [0, 0, 0, ..., 0, 0, 0],\n",
       "       [0, 0, 0, ..., 0, 0, 0]])"
      ]
     },
     "metadata": {},
     "execution_count": 70
    }
   ],
   "source": [
    "kor_vectorizer = CountVectorizer()\n",
    "kor_bow = kor_vectorizer.fit_transform(total_news)\n",
    "kor_bow.toarray()"
   ]
  },
  {
   "cell_type": "code",
   "execution_count": 51,
   "metadata": {},
   "outputs": [],
   "source": [
    "from sklearn.feature_extraction.text import TfidfTransformer"
   ]
  },
  {
   "cell_type": "code",
   "execution_count": 71,
   "metadata": {},
   "outputs": [
    {
     "output_type": "execute_result",
     "data": {
      "text/plain": [
       "array([[0., 0., 0., ..., 0., 0., 0.],\n",
       "       [0., 0., 0., ..., 0., 0., 0.],\n",
       "       [0., 0., 0., ..., 0., 0., 0.],\n",
       "       ...,\n",
       "       [0., 0., 0., ..., 0., 0., 0.],\n",
       "       [0., 0., 0., ..., 0., 0., 0.],\n",
       "       [0., 0., 0., ..., 0., 0., 0.]])"
      ]
     },
     "metadata": {},
     "execution_count": 71
    }
   ],
   "source": [
    "transformer = TfidfTransformer()\n",
    "tfidf = transformer.fit_transform(kor_bow.toarray())\n",
    "tfidf.toarray()"
   ]
  },
  {
   "cell_type": "code",
   "execution_count": 63,
   "metadata": {},
   "outputs": [],
   "source": [
    "def find_most_similar_news_idf(index, tfidf, corpus):\n",
    "    idx = (-cosine_similarity(tfidf[index], tfidf)[0]).argsort()[1]\n",
    "    \n",
    "    return corpus[idx]"
   ]
  },
  {
   "cell_type": "code",
   "execution_count": 76,
   "metadata": {},
   "outputs": [
    {
     "output_type": "stream",
     "name": "stdout",
     "text": [
      "(서울=연합뉴스) 곽명일 기자 = 북한당국이 주민을 상대로 자본주의 문화에 대한 단속과 통제를 강화하고 있지만, '태양의 후예'와 같은 한국 드라마를 몰래 시청하는 북한 주민들이 많다고 북한 전문매체인 데일리NK가 4일 보도했다. 평안남도 소식통은 이 매체에 \"최근 젊은 청년들 속에서 '태양의 후예'라는 한국 드라마가 인기를 끌면서 날이 새는 줄도 모르고 시청하고 있다\"면서 \"이 드라마에 대한 소문이 퍼지자 어른·아이 할 것 없이 너도나도 (드라마를) 보기 위해 애쓰고 있는 상황\"이라고 전했다. 소식통은 이어 \"시장에서 상인들에게 다가가 '아랫동네'(한국)것이 없느냐'고 슬쩍 말을 건네면 대뜸 '태양의 후예'를 소개한다\"며 \"새 드라마 원본(CD)은 5만 원(한국 돈 7천 원)에 판매되고, 복사본은 그 절반 값에 거래된다\"고 설명했다. 전체기사 본문배너 그러면서 \"(주민들은)'200일 전투'의 쌓인 피로를 한국 드라마를 시청하거나 가요를 감상하면서 해소한다\"며 \"한류의 확산으로 볼거리가 없는 조선중앙TV를 외면하는 주민이 늘어나고 있다\"고 덧붙였다. 앞서 이 매체는 북한당국이 중국산 노트텔(EVD 플레이어)을 남한 드라마 시청의 주요 수단으로 지목하면서 수입을 전면 금지하는 지시를 내렸다고 지난달 23일 보도한 바 있다.\n\n (하노이=연합뉴스) 김문성 특파원 = 배정호 민주평화통일자문회의 사무처장은 27일 \"북한의 전통적인 우방국이자 여전히 정치, 경제, 군사적 교류를 이어가는 베트남의 대북제재 이행은 북한의 태도변화에 큰 전환점이 될 수 있다\"며 베트남의 적극적인 제재 동참을 촉구했다. 배 사무처장은 이날 베트남 하노이 롯데호텔에서 민주평통 주최로 열린 '2016 한·베트남 평화통일포럼'에서 기조연설을 통해 \"유엔 제재가 빈틈없이 이행되도록 한국과 베트남이 적극적으로 협력하는 것이 무엇보다 필요하다\"고 강조했다. 그는 \"2014년 북한과 베트남이 500만 달러(57억 원)의 투자와 교역을 진행했고 베트남에 북한 식당도 운영되고 있다\"며 북한의 돈줄을 죄고 비핵화를 이루는데 베트남의 협력을 요청했다. 전체기사 본문배너 강동완 동아대 교수는 '한류가 북한사회에 미치는 영향'이란 주제 발표에서 \"최근 북한 내부에서 남한 영화나 드라마가 인기를 누리면서 한류 현상이 확산하고 있다\"며 \"이는 단순히 한류 전파라는 점 이외에 폐쇄된 북한 체제에 자본주의 요소인 시장을 확대하는 매개체\"라고 평가했다. 강 교수는 \"시장이 단순히 물물거래의 기능보다는 정보가 유통되고 북한사회의 폐쇄성을 상쇄하는 기능을 지니게 됐다\"며 \"남한 영상 매체의 확산은 북한에서 지역·계층 간 경계 허물기라는 사회적 현상의 변화를 초래하고 있다\"고 말했다. 강 교수는 북한 주민의 남한 영상 매체 시청이 북한 체제 변화를 촉구하는 다른 요인과 상호 결합할 경우 북한사회 전체를 움직일 수 있을 기폭제가 될 것으로 전망했다. 딘 꽝 하이 베트남 역사연구소장은 베트남이 1975년 남북통일 이후 중앙에서 지방까지 집중적이고 일관된 정치, 문화, 사회, 경제 통합을 추진했다고 소개하며 전쟁 상흔 치료, 민족 화합과 화해, 미래를 위해 승자와 패자라는 이분법식 인식과 과거 상처에 얽매여서는 안 된다고 지적했다.\n"
     ]
    }
   ],
   "source": [
    "idx = 300\n",
    "print(yonhap[300])\n",
    "\n",
    "most_similar = find_most_similar_news_idf(idx, tfidf, yonhap)\n",
    "print(\"\\n\", most_similar)"
   ]
  }
 ]
}