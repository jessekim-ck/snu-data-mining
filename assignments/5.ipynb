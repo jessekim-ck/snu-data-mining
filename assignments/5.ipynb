{
 "metadata": {
  "language_info": {
   "codemirror_mode": {
    "name": "ipython",
    "version": 3
   },
   "file_extension": ".py",
   "mimetype": "text/x-python",
   "name": "python",
   "nbconvert_exporter": "python",
   "pygments_lexer": "ipython3",
   "version": "3.7.4-final"
  },
  "orig_nbformat": 2,
  "kernelspec": {
   "name": "python3",
   "display_name": "Python 3"
  }
 },
 "nbformat": 4,
 "nbformat_minor": 2,
 "cells": [
  {
   "source": [
    "# 2013-11086 김찬규 과제 5"
   ],
   "cell_type": "markdown",
   "metadata": {}
  },
  {
   "cell_type": "code",
   "execution_count": 1,
   "metadata": {},
   "outputs": [],
   "source": [
    "import numpy as np\n",
    "import pandas as pd\n",
    "import matplotlib.pyplot as plt\n",
    "from sklearn.model_selection import train_test_split\n",
    "from sklearn.linear_model import LinearRegression, Lasso"
   ]
  },
  {
   "cell_type": "code",
   "execution_count": 2,
   "metadata": {},
   "outputs": [
    {
     "output_type": "execute_result",
     "data": {
      "text/plain": [
       "  DateNumber     x1     x2     x3     x4     x5     x6     x7     x8     x9  \\\n",
       "0    WTH0001  0.123  0.156  0.173  0.179  0.108  0.118  0.181  0.167  0.149   \n",
       "1    WTH0002  0.145  0.138  0.173  0.197  0.131  0.183  0.194  0.191  0.167   \n",
       "2    WTH0003  0.190  0.124  0.110  0.102  0.126  0.104  0.189  0.180  0.146   \n",
       "3    WTH0004  0.168  0.200  0.169  0.162  0.190  0.152  0.164  0.123  0.116   \n",
       "4    WTH0005  0.178  0.126  0.159  0.165  0.121  0.129  0.112  0.189  0.197   \n",
       "\n",
       "   ...    x12    x13    x14    x15    x16    x17    x18    x19    x20     y  \n",
       "0  ...  0.190  0.132  0.101  0.107  0.200  0.161  0.165  0.195  0.162  21.8  \n",
       "1  ...  0.200  0.198  0.146  0.119  0.155  0.189  0.105  0.108  0.138  17.4  \n",
       "2  ...  0.108  0.142  0.129  0.189  0.105  0.149  0.157  0.104  0.135  21.7  \n",
       "3  ...  0.166  0.104  0.165  0.198  0.110  0.100  0.126  0.142  0.113  21.7  \n",
       "4  ...  0.177  0.114  0.154  0.183  0.166  0.107  0.107  0.102  0.110  20.1  \n",
       "\n",
       "[5 rows x 22 columns]"
      ],
      "text/html": "<div>\n<style scoped>\n    .dataframe tbody tr th:only-of-type {\n        vertical-align: middle;\n    }\n\n    .dataframe tbody tr th {\n        vertical-align: top;\n    }\n\n    .dataframe thead th {\n        text-align: right;\n    }\n</style>\n<table border=\"1\" class=\"dataframe\">\n  <thead>\n    <tr style=\"text-align: right;\">\n      <th></th>\n      <th>DateNumber</th>\n      <th>x1</th>\n      <th>x2</th>\n      <th>x3</th>\n      <th>x4</th>\n      <th>x5</th>\n      <th>x6</th>\n      <th>x7</th>\n      <th>x8</th>\n      <th>x9</th>\n      <th>...</th>\n      <th>x12</th>\n      <th>x13</th>\n      <th>x14</th>\n      <th>x15</th>\n      <th>x16</th>\n      <th>x17</th>\n      <th>x18</th>\n      <th>x19</th>\n      <th>x20</th>\n      <th>y</th>\n    </tr>\n  </thead>\n  <tbody>\n    <tr>\n      <td>0</td>\n      <td>WTH0001</td>\n      <td>0.123</td>\n      <td>0.156</td>\n      <td>0.173</td>\n      <td>0.179</td>\n      <td>0.108</td>\n      <td>0.118</td>\n      <td>0.181</td>\n      <td>0.167</td>\n      <td>0.149</td>\n      <td>...</td>\n      <td>0.190</td>\n      <td>0.132</td>\n      <td>0.101</td>\n      <td>0.107</td>\n      <td>0.200</td>\n      <td>0.161</td>\n      <td>0.165</td>\n      <td>0.195</td>\n      <td>0.162</td>\n      <td>21.8</td>\n    </tr>\n    <tr>\n      <td>1</td>\n      <td>WTH0002</td>\n      <td>0.145</td>\n      <td>0.138</td>\n      <td>0.173</td>\n      <td>0.197</td>\n      <td>0.131</td>\n      <td>0.183</td>\n      <td>0.194</td>\n      <td>0.191</td>\n      <td>0.167</td>\n      <td>...</td>\n      <td>0.200</td>\n      <td>0.198</td>\n      <td>0.146</td>\n      <td>0.119</td>\n      <td>0.155</td>\n      <td>0.189</td>\n      <td>0.105</td>\n      <td>0.108</td>\n      <td>0.138</td>\n      <td>17.4</td>\n    </tr>\n    <tr>\n      <td>2</td>\n      <td>WTH0003</td>\n      <td>0.190</td>\n      <td>0.124</td>\n      <td>0.110</td>\n      <td>0.102</td>\n      <td>0.126</td>\n      <td>0.104</td>\n      <td>0.189</td>\n      <td>0.180</td>\n      <td>0.146</td>\n      <td>...</td>\n      <td>0.108</td>\n      <td>0.142</td>\n      <td>0.129</td>\n      <td>0.189</td>\n      <td>0.105</td>\n      <td>0.149</td>\n      <td>0.157</td>\n      <td>0.104</td>\n      <td>0.135</td>\n      <td>21.7</td>\n    </tr>\n    <tr>\n      <td>3</td>\n      <td>WTH0004</td>\n      <td>0.168</td>\n      <td>0.200</td>\n      <td>0.169</td>\n      <td>0.162</td>\n      <td>0.190</td>\n      <td>0.152</td>\n      <td>0.164</td>\n      <td>0.123</td>\n      <td>0.116</td>\n      <td>...</td>\n      <td>0.166</td>\n      <td>0.104</td>\n      <td>0.165</td>\n      <td>0.198</td>\n      <td>0.110</td>\n      <td>0.100</td>\n      <td>0.126</td>\n      <td>0.142</td>\n      <td>0.113</td>\n      <td>21.7</td>\n    </tr>\n    <tr>\n      <td>4</td>\n      <td>WTH0005</td>\n      <td>0.178</td>\n      <td>0.126</td>\n      <td>0.159</td>\n      <td>0.165</td>\n      <td>0.121</td>\n      <td>0.129</td>\n      <td>0.112</td>\n      <td>0.189</td>\n      <td>0.197</td>\n      <td>...</td>\n      <td>0.177</td>\n      <td>0.114</td>\n      <td>0.154</td>\n      <td>0.183</td>\n      <td>0.166</td>\n      <td>0.107</td>\n      <td>0.107</td>\n      <td>0.102</td>\n      <td>0.110</td>\n      <td>20.1</td>\n    </tr>\n  </tbody>\n</table>\n<p>5 rows × 22 columns</p>\n</div>"
     },
     "metadata": {},
     "execution_count": 2
    }
   ],
   "source": [
    "df = pd.read_csv(\"data/weather.csv\")\n",
    "df.head()"
   ]
  },
  {
   "cell_type": "code",
   "execution_count": 3,
   "metadata": {},
   "outputs": [],
   "source": [
    "df_x = df[[f\"x{i}\" for i in range(1, 21)]]\n",
    "df_y = df[\"y\"]"
   ]
  },
  {
   "cell_type": "code",
   "execution_count": 4,
   "metadata": {},
   "outputs": [],
   "source": [
    "x_train, x_test, y_train, y_test = train_test_split(df_x, df_y, random_state=0, test_size=0.3)"
   ]
  },
  {
   "source": [
    "## Linear Regression"
   ],
   "cell_type": "markdown",
   "metadata": {}
  },
  {
   "cell_type": "code",
   "execution_count": 5,
   "metadata": {},
   "outputs": [],
   "source": [
    "reg = LinearRegression()"
   ]
  },
  {
   "cell_type": "code",
   "execution_count": 6,
   "metadata": {},
   "outputs": [
    {
     "output_type": "execute_result",
     "data": {
      "text/plain": [
       "LinearRegression(copy_X=True, fit_intercept=True, n_jobs=None, normalize=False)"
      ]
     },
     "metadata": {},
     "execution_count": 6
    }
   ],
   "source": [
    "reg.fit(x_train, y_train)"
   ]
  },
  {
   "cell_type": "code",
   "execution_count": 7,
   "metadata": {},
   "outputs": [],
   "source": [
    "y_pred = reg.predict(x_test)"
   ]
  },
  {
   "cell_type": "code",
   "execution_count": 8,
   "metadata": {},
   "outputs": [
    {
     "output_type": "stream",
     "name": "stdout",
     "text": [
      "0.13275224292736143\n"
     ]
    }
   ],
   "source": [
    "mape = np.mean(np.abs(y_test - y_pred) / y_test)\n",
    "print(mape)"
   ]
  },
  {
   "source": [
    "(1) MAPE = 0.1328"
   ],
   "cell_type": "markdown",
   "metadata": {}
  },
  {
   "source": [
    "## Lasso Regression"
   ],
   "cell_type": "markdown",
   "metadata": {}
  },
  {
   "cell_type": "code",
   "execution_count": 9,
   "metadata": {},
   "outputs": [],
   "source": [
    "reg_Lasso = Lasso(alpha=0.01)"
   ]
  },
  {
   "cell_type": "code",
   "execution_count": 10,
   "metadata": {},
   "outputs": [
    {
     "output_type": "execute_result",
     "data": {
      "text/plain": [
       "Lasso(alpha=0.01, copy_X=True, fit_intercept=True, max_iter=1000,\n",
       "      normalize=False, positive=False, precompute=False, random_state=None,\n",
       "      selection='cyclic', tol=0.0001, warm_start=False)"
      ]
     },
     "metadata": {},
     "execution_count": 10
    }
   ],
   "source": [
    "reg_Lasso.fit(x_train, y_train)"
   ]
  },
  {
   "cell_type": "code",
   "execution_count": 11,
   "metadata": {},
   "outputs": [],
   "source": [
    "y_pred_Lasso = reg_Lasso.predict(x_test)"
   ]
  },
  {
   "cell_type": "code",
   "execution_count": 12,
   "metadata": {},
   "outputs": [
    {
     "output_type": "execute_result",
     "data": {
      "text/plain": [
       "15"
      ]
     },
     "metadata": {},
     "execution_count": 12
    }
   ],
   "source": [
    "np.sum(reg_Lasso.coef_ == 0)"
   ]
  },
  {
   "source": [
    "(2) 총 15개의 변수 탈락"
   ],
   "cell_type": "markdown",
   "metadata": {}
  },
  {
   "cell_type": "code",
   "execution_count": null,
   "metadata": {},
   "outputs": [],
   "source": []
  }
 ]
}